{
 "cells": [
  {
   "cell_type": "code",
   "execution_count": 1,
   "id": "8ad60e1c-b630-42df-8066-d02a1b9968f7",
   "metadata": {},
   "outputs": [
    {
     "name": "stdout",
     "output_type": "stream",
     "text": [
      "Email sent successfully!\n"
     ]
    }
   ],
   "source": [
    "import smtplib\n",
    "from email.mime.text import MIMEText\n",
    "from email.mime.multipart import MIMEMultipart\n",
    "\n",
    "# Gmail SMTP server configuration\n",
    "smtp_server = 'smtp.gmail.com'\n",
    "smtp_port = 587  # Port for TLS\n",
    "sender_email = 'xpressresumebuilder@gmail.com'\n",
    "sender_password = 'beyf vjel zzpt pwbg'\n",
    "receiver_email = 'codewithesub@gmail.com'\n",
    "\n",
    "# Create a multipart message and set headers\n",
    "message = MIMEMultipart()\n",
    "message['From'] = sender_email\n",
    "message['To'] = receiver_email\n",
    "message['Subject'] = 'Test Email from Python'\n",
    "\n",
    "# Add body to email\n",
    "body = 'This is a test email sent from Python using Gmail SMTP.'\n",
    "message.attach(MIMEText(body, 'plain'))\n",
    "\n",
    "try:\n",
    "    # Create a secure SSL context\n",
    "    context = smtplib.SMTP(smtp_server, smtp_port)\n",
    "    context.starttls()  # Secure the connection\n",
    "    context.login(sender_email, sender_password)  # Login to Gmail\n",
    "    \n",
    "    # Send email\n",
    "    text = message.as_string()\n",
    "    context.sendmail(sender_email, receiver_email, text)\n",
    "    print('Email sent successfully!')\n",
    "\n",
    "except Exception as e:\n",
    "    print(f'Error sending email: {str(e)}')\n",
    "\n",
    "finally:\n",
    "    context.quit()  # Close the SMTP connection\n"
   ]
  }
 ],
 "metadata": {
  "kernelspec": {
   "display_name": "Python 3 (ipykernel)",
   "language": "python",
   "name": "python3"
  },
  "language_info": {
   "codemirror_mode": {
    "name": "ipython",
    "version": 3
   },
   "file_extension": ".py",
   "mimetype": "text/x-python",
   "name": "python",
   "nbconvert_exporter": "python",
   "pygments_lexer": "ipython3",
   "version": "3.12.3"
  }
 },
 "nbformat": 4,
 "nbformat_minor": 5
}
